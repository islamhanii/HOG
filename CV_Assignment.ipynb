{
  "nbformat": 4,
  "nbformat_minor": 0,
  "metadata": {
    "colab": {
      "name": "CV_Assignment.ipynb",
      "provenance": [],
      "collapsed_sections": [],
      "authorship_tag": "ABX9TyNr8/YLyz+exeBM/3LM5HGc",
      "include_colab_link": true
    },
    "kernelspec": {
      "name": "python3",
      "display_name": "Python 3"
    },
    "language_info": {
      "name": "python"
    }
  },
  "cells": [
    {
      "cell_type": "markdown",
      "metadata": {
        "id": "view-in-github",
        "colab_type": "text"
      },
      "source": [
        "<a href=\"https://colab.research.google.com/github/islamhanii/HOG/blob/main/CV_Assignment.ipynb\" target=\"_parent\"><img src=\"https://colab.research.google.com/assets/colab-badge.svg\" alt=\"Open In Colab\"/></a>"
      ]
    },
    {
      "cell_type": "code",
      "metadata": {
        "id": "mK1Hmp-w8tud"
      },
      "source": [
        "import cv2\n",
        "import numpy as np\n",
        "from keras.datasets import mnist\n",
        "from sklearn import svm\n",
        "from sklearn.svm import SVC\n",
        "from sklearn.metrics import classification_report,accuracy_score"
      ],
      "execution_count": null,
      "outputs": []
    },
    {
      "cell_type": "code",
      "metadata": {
        "id": "nmKNrxkz6WCw"
      },
      "source": [
        "def getFeatures(data):\n",
        "  feature_vectors = []\n",
        "  for i in range(len(data)):\n",
        "    image = data[i]\n",
        "    image = np.pad(image, ((0,4),(0,4)), constant_values=255)\n",
        "\n",
        "    gradient_kernel_x = np.array([[-1, 0, 1]])\n",
        "    gradient_kernel_y = np.reshape(gradient_kernel_x, (3,1))\n",
        "\n",
        "    gradient_x = cv2.filter2D(image,-1,gradient_kernel_x)\n",
        "    gradient_y = cv2.filter2D(image,-1,gradient_kernel_y)\n",
        "\n",
        "    gradient_x_square = np.power(gradient_x, 2)\n",
        "    gradient_y_square = np.power(gradient_y, 2)\n",
        "\n",
        "    sum_squares = gradient_x_square + gradient_y_square\n",
        "    grad_magnitude = np.sqrt(sum_squares)\n",
        "\n",
        "    grad_direction = np.arctan(gradient_y/(gradient_x+0.00000001))\n",
        "    grad_direction = np.rad2deg(grad_direction)\n",
        "    grad_direction = grad_direction%180\n",
        "\n",
        "    feature_vector = []\n",
        "\n",
        "    for i in range(0,len(image),8):\n",
        "        for j in range(0,len(image[0]),8):\n",
        "            block_magn = grad_magnitude[i:i+16,j:j+16]\n",
        "            block_seta = grad_direction[i:i+16,j:j+16]\n",
        "            \n",
        "            sum = 0\n",
        "            block_vector = []\n",
        "            for x in range(0,len(block_magn),8):\n",
        "                for y in range(0,len(block_magn[0]),8):\n",
        "                    cell_magn = block_magn[x:x+8,y:y+8]\n",
        "                    cell_seta = block_seta[x:x+8,y:y+8]\n",
        "                    \n",
        "                    histogram = {0:0, 20:0, 40:0, 60:0, 80:0, 100:0, 120:0, 140:0, 160:0}\n",
        "                    for n in range(len(cell_magn)):\n",
        "                        for m in range(len(cell_magn[0])):\n",
        "                            seta = cell_seta[n][m]\n",
        "                            value = cell_magn[n][m]\n",
        "                            sum += cell_magn[n][m]\n",
        "                    \n",
        "                            for s in histogram.keys():\n",
        "                                div = (seta-s)/20\n",
        "                                if(seta == 0):\n",
        "                                    histogram[s] += value\n",
        "                                    break\n",
        "                                \n",
        "                                elif(div<=1):\n",
        "                                    histogram[s] += value*(1-div)\n",
        "                                    if(s==160):\n",
        "                                        histogram[0] += value*div\n",
        "                                        break\n",
        "                                    histogram[s+20] += value*div\n",
        "                                    break\n",
        "                    \n",
        "                    histogram = list(histogram.values())\n",
        "                    block_vector.append(histogram)\n",
        "            \n",
        "            for x in range(len(block_vector)):\n",
        "                for y in range(len(block_vector[0])):\n",
        "                    if(sum!=0):\n",
        "                        block_vector[x][y] /= sum\n",
        "                \n",
        "            feature_vector += block_vector\n",
        "            \n",
        "    feature_vectors.append(feature_vector)\n",
        "  return feature_vectors"
      ],
      "execution_count": null,
      "outputs": []
    },
    {
      "cell_type": "code",
      "metadata": {
        "colab": {
          "base_uri": "https://localhost:8080/"
        },
        "id": "HFhqgKUAjc5D",
        "outputId": "835db3d7-3f00-43a2-d478-09e7cb089644"
      },
      "source": [
        "(train_X, train_y), (test_X, test_y) = mnist.load_data()\n",
        "\n",
        "train_imgs = np.array(~train_X[:50000] , dtype=float)\n",
        "train_labels = np.array(train_y[:50000])\n",
        "test_imgs = np.array(~test_X[:10000] , dtype=float)\n",
        "test_labels = np.array(test_y[:10000])\n",
        "\n",
        "train_features = np.array(getFeatures(train_imgs))\n",
        "test_features = np.array(getFeatures(test_imgs))\n",
        "\n",
        "nsamples, nx, ny = train_features.shape\n",
        "train_features = train_features.reshape((nsamples,nx*ny))\n",
        "\n",
        "nsamples, nx, ny = test_features.shape\n",
        "test_features = test_features.reshape((nsamples,nx*ny))\n",
        "\n",
        "clf = svm.SVC()\n",
        "clf.fit(train_features, train_labels)\n",
        "pred=clf.predict(test_features)\n",
        "\n",
        "print(\"Accurate percentage\"+str(accuracy_score(test_labels,pred)))\n",
        "print(\"\\n\")\n",
        "print(classification_report(test_labels,pred))"
      ],
      "execution_count": null,
      "outputs": [
        {
          "output_type": "stream",
          "text": [
            "Accurate percentage0.9723\n",
            "\n",
            "\n",
            "              precision    recall  f1-score   support\n",
            "\n",
            "           0       0.97      0.99      0.98       980\n",
            "           1       0.99      0.99      0.99      1135\n",
            "           2       0.98      0.98      0.98      1032\n",
            "           3       0.96      0.97      0.96      1010\n",
            "           4       0.97      0.97      0.97       982\n",
            "           5       0.98      0.98      0.98       892\n",
            "           6       0.99      0.98      0.98       958\n",
            "           7       0.97      0.95      0.96      1028\n",
            "           8       0.97      0.97      0.97       974\n",
            "           9       0.96      0.95      0.95      1009\n",
            "\n",
            "    accuracy                           0.97     10000\n",
            "   macro avg       0.97      0.97      0.97     10000\n",
            "weighted avg       0.97      0.97      0.97     10000\n",
            "\n"
          ],
          "name": "stdout"
        }
      ]
    }
  ]
}